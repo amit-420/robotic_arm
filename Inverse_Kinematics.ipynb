{
  "nbformat": 4,
  "nbformat_minor": 0,
  "metadata": {
    "colab": {
      "name": "Inverse Kinematics.ipynb",
      "provenance": [],
      "collapsed_sections": [],
      "include_colab_link": true
    },
    "kernelspec": {
      "display_name": "Python 3",
      "language": "python",
      "name": "python3"
    },
    "language_info": {
      "codemirror_mode": {
        "name": "ipython",
        "version": 3
      },
      "file_extension": ".py",
      "mimetype": "text/x-python",
      "name": "python",
      "nbconvert_exporter": "python",
      "pygments_lexer": "ipython3",
      "version": "3.7.6"
    }
  },
  "cells": [
    {
      "cell_type": "markdown",
      "metadata": {
        "id": "view-in-github",
        "colab_type": "text"
      },
      "source": [
        "<a href=\"https://colab.research.google.com/github/amit-420/robotic_arm/blob/main/Inverse_Kinematics.ipynb\" target=\"_parent\"><img src=\"https://colab.research.google.com/assets/colab-badge.svg\" alt=\"Open In Colab\"/></a>"
      ]
    },
    {
      "cell_type": "code",
      "metadata": {
        "id": "qhDn29c3FG4X"
      },
      "source": [
        "import warnings\r\n",
        "warnings.filterwarnings('ignore')"
      ],
      "execution_count": 7,
      "outputs": []
    },
    {
      "cell_type": "code",
      "metadata": {
        "colab": {
          "base_uri": "https://localhost:8080/",
          "height": 98
        },
        "id": "THL4qXWSXaMR",
        "cellView": "code",
        "outputId": "e0738484-24d3-4e36-9f20-7e8a63e45355"
      },
      "source": [
        "\n",
        "from __future__ import division\n",
        "import numpy as np\n",
        "import sympy as sp\n",
        "import math as m\n",
        "import matplotlib as mpl\n",
        "import matplotlib.animation as animation\n",
        "from mpl_toolkits.mplot3d import Axes3D\n",
        "import matplotlib.pyplot as plt\n",
        "import time\n",
        "%matplotlib notebook\n",
        "class DH:\n",
        "    @staticmethod\n",
        "    def num_para(theta1,theta2,theta3,theta4):\n",
        "        link0,link1,link2,link3 = 0,0,4,4\n",
        "        theta1,theta2,theta3,theta4 = m.radians(theta1),m.radians(theta2),m.radians(theta3),m.radians(theta4)\n",
        "        DHpara = np.array([[0,  link0, theta1, 4],\n",
        "                        [m.pi/2,link1,theta2,0],\n",
        "                        [0,link2,theta3, 0],\n",
        "                        [-m.pi/2,link3,theta4,0],\n",
        "                    ])\n",
        "        return DHpara\n",
        "    @staticmethod\n",
        "    def sp_para():\n",
        "        link0,link1,link2,link3 = 0,0,4,4\n",
        "        theta1,theta2,theta3,theta4 = sp.symbols(\"theta1,theta2,theta3,theta4\")\n",
        "        DHpara = np.array([[0,  link0, theta1, 4],\n",
        "                        [sp.pi/2,link1,theta2,0],\n",
        "                        [0,link2,theta3, 0],\n",
        "                        [-sp.pi/2,link3,theta4,0],\n",
        "                    ])\n",
        "        return DHpara\n",
        " \n",
        " \n",
        " \n",
        "class Transform:\n",
        "    def __init__(self, DHpara):\n",
        "        self.a = DHpara[0]\n",
        "        self.L = DHpara[1]\n",
        "        self.t = DHpara[2]\n",
        "        self.d = DHpara[3]\n",
        "    def np_transform(self):\n",
        "        T = np.array([[np.cos(self.t),-np.sin(self.t),0,self.L],\n",
        "                [np.sin(self.t)*np.cos(self.a),np.cos(self.t)*np.cos(self.a),-np.sin(self.a),-np.sin(self.a)*self.d],\n",
        "                [np.sin(self.t)*np.sin(self.a),np.cos(self.t)*np.sin(self.a),np.cos(self.a),np.cos(self.a)*self.d],\n",
        "                [0,0,0,1]])\n",
        "        return T\n",
        "    @staticmethod\n",
        "    def sp_transform(DH):\n",
        "        alpha, L, theta,d = DH[0], DH[1], DH[2], DH[3] \n",
        "        T = sp.Matrix([[sp.cos(theta),-sp.sin(theta),0,L],\n",
        "                [sp.sin(theta)*sp.cos(alpha),sp.cos(theta)*sp.cos(alpha),-sp.sin(alpha),-sp.sin(alpha)*d],\n",
        "                [sp.sin(theta)*sp.sin(alpha),sp.cos(theta)*sp.sin(alpha),sp.cos(alpha),sp.cos(alpha)*d],\n",
        "                [0,0,0,1]])\n",
        "        return T\n",
        " \n",
        "def transf_wrt_origin(theta1,theta2,theta3,theta4):\n",
        "    DHpara = DH.num_para(theta1,theta2,theta3,theta4)\n",
        "    z = np.identity(4)\n",
        "    for i in range(len(DHpara)):\n",
        "        T = Transform(DHpara[i])\n",
        "        X = T.np_transform()\n",
        "        z = np.dot(z,X)\n",
        "        record[i] = z\n",
        "    return record\n",
        " \n",
        " \n",
        "def sp_jacobian():\n",
        "    para = DH.sp_para()\n",
        "    z = sp.eye(4)\n",
        "    joint_po = sp.eye(4,1)\n",
        "    theta1,theta2,theta3,theta4 = sp.symbols(\"theta1,theta2,theta3,theta4\")\n",
        "    for i in range(0,len(para)):\n",
        "        T = Transform.sp_transform(para[i])\n",
        "        z = z@T\n",
        "        joint_po = joint_po.col_insert(i,z.col(3))\n",
        "    colm1 = sp.diff(z.col(3),theta1)\n",
        "    colm2 = sp.diff(z.col(3),theta2)\n",
        "    colm3 = sp.diff(z.col(3),theta3)\n",
        "    colm4 = sp.diff(z.col(3),theta4)\n",
        "    Jv = sp.Matrix([colm1])\n",
        "    Jv = Jv.col_insert(1,sp.Matrix([colm2]))\n",
        "    Jv = Jv.col_insert(2,sp.Matrix([colm3]))\n",
        " \n",
        "    Jv.row_del(3)\n",
        "    joint_po.row_del(3)\n",
        "    return Jv, z, joint_po\n",
        " \n",
        "Jv ,z,joint_po = sp_jacobian()\n",
        "\n",
        "sp.init_printing()\n",
        "Jv"
      ],
      "execution_count": 1,
      "outputs": [
        {
          "output_type": "execute_result",
          "data": {
            "text/latex": "$$\\left[\\begin{matrix}4 \\sin{\\left (\\theta_{1} \\right )} \\sin{\\left (\\theta_{2} \\right )} \\sin{\\left (\\theta_{3} \\right )} - 4 \\sin{\\left (\\theta_{1} \\right )} \\cos{\\left (\\theta_{2} \\right )} \\cos{\\left (\\theta_{3} \\right )} - 4 \\sin{\\left (\\theta_{1} \\right )} \\cos{\\left (\\theta_{2} \\right )} & - 4 \\sin{\\left (\\theta_{2} \\right )} \\cos{\\left (\\theta_{1} \\right )} \\cos{\\left (\\theta_{3} \\right )} - 4 \\sin{\\left (\\theta_{2} \\right )} \\cos{\\left (\\theta_{1} \\right )} - 4 \\sin{\\left (\\theta_{3} \\right )} \\cos{\\left (\\theta_{1} \\right )} \\cos{\\left (\\theta_{2} \\right )} & - 4 \\sin{\\left (\\theta_{2} \\right )} \\cos{\\left (\\theta_{1} \\right )} \\cos{\\left (\\theta_{3} \\right )} - 4 \\sin{\\left (\\theta_{3} \\right )} \\cos{\\left (\\theta_{1} \\right )} \\cos{\\left (\\theta_{2} \\right )}\\\\- 4 \\sin{\\left (\\theta_{2} \\right )} \\sin{\\left (\\theta_{3} \\right )} \\cos{\\left (\\theta_{1} \\right )} + 4 \\cos{\\left (\\theta_{1} \\right )} \\cos{\\left (\\theta_{2} \\right )} \\cos{\\left (\\theta_{3} \\right )} + 4 \\cos{\\left (\\theta_{1} \\right )} \\cos{\\left (\\theta_{2} \\right )} & - 4 \\sin{\\left (\\theta_{1} \\right )} \\sin{\\left (\\theta_{2} \\right )} \\cos{\\left (\\theta_{3} \\right )} - 4 \\sin{\\left (\\theta_{1} \\right )} \\sin{\\left (\\theta_{2} \\right )} - 4 \\sin{\\left (\\theta_{1} \\right )} \\sin{\\left (\\theta_{3} \\right )} \\cos{\\left (\\theta_{2} \\right )} & - 4 \\sin{\\left (\\theta_{1} \\right )} \\sin{\\left (\\theta_{2} \\right )} \\cos{\\left (\\theta_{3} \\right )} - 4 \\sin{\\left (\\theta_{1} \\right )} \\sin{\\left (\\theta_{3} \\right )} \\cos{\\left (\\theta_{2} \\right )}\\\\0 & - 4 \\sin{\\left (\\theta_{2} \\right )} \\sin{\\left (\\theta_{3} \\right )} + 4 \\cos{\\left (\\theta_{2} \\right )} \\cos{\\left (\\theta_{3} \\right )} + 4 \\cos{\\left (\\theta_{2} \\right )} & - 4 \\sin{\\left (\\theta_{2} \\right )} \\sin{\\left (\\theta_{3} \\right )} + 4 \\cos{\\left (\\theta_{2} \\right )} \\cos{\\left (\\theta_{3} \\right )}\\end{matrix}\\right]$$",
            "text/plain": [
              "⎡4⋅sin(θ₁)⋅sin(θ₂)⋅sin(θ₃) - 4⋅sin(θ₁)⋅cos(θ₂)⋅cos(θ₃) - 4⋅sin(θ₁)⋅cos(θ₂)   -\n",
              "⎢                                                                             \n",
              "⎢-4⋅sin(θ₂)⋅sin(θ₃)⋅cos(θ₁) + 4⋅cos(θ₁)⋅cos(θ₂)⋅cos(θ₃) + 4⋅cos(θ₁)⋅cos(θ₂)  -\n",
              "⎢                                                                             \n",
              "⎣                                    0                                        \n",
              "\n",
              "4⋅sin(θ₂)⋅cos(θ₁)⋅cos(θ₃) - 4⋅sin(θ₂)⋅cos(θ₁) - 4⋅sin(θ₃)⋅cos(θ₁)⋅cos(θ₂)  -4⋅\n",
              "                                                                              \n",
              "4⋅sin(θ₁)⋅sin(θ₂)⋅cos(θ₃) - 4⋅sin(θ₁)⋅sin(θ₂) - 4⋅sin(θ₁)⋅sin(θ₃)⋅cos(θ₂)  -4⋅\n",
              "                                                                              \n",
              "           -4⋅sin(θ₂)⋅sin(θ₃) + 4⋅cos(θ₂)⋅cos(θ₃) + 4⋅cos(θ₂)                 \n",
              "\n",
              "sin(θ₂)⋅cos(θ₁)⋅cos(θ₃) - 4⋅sin(θ₃)⋅cos(θ₁)⋅cos(θ₂)⎤\n",
              "                                                   ⎥\n",
              "sin(θ₁)⋅sin(θ₂)⋅cos(θ₃) - 4⋅sin(θ₁)⋅sin(θ₃)⋅cos(θ₂)⎥\n",
              "                                                   ⎥\n",
              "     -4⋅sin(θ₂)⋅sin(θ₃) + 4⋅cos(θ₂)⋅cos(θ₃)        ⎦"
            ]
          },
          "metadata": {
            "tags": []
          },
          "execution_count": 1
        }
      ]
    },
    {
      "cell_type": "code",
      "metadata": {
        "colab": {
          "base_uri": "https://localhost:8080/",
          "height": 78
        },
        "id": "_q9NUfhGL3w0",
        "outputId": "90a78cdd-54d0-4801-c193-07824809aae8"
      },
      "source": [
        "p_1 = joint_po.col(0)\r\n",
        "p_2 = joint_po.col(1)\r\n",
        "p_3 = joint_po.col(2)\r\n",
        "p_4 = joint_po.col(3)\r\n",
        "\r\n",
        "p_1,p_2,p_3,p_4"
      ],
      "execution_count": 2,
      "outputs": [
        {
          "output_type": "execute_result",
          "data": {
            "text/latex": "$$\\left ( \\left[\\begin{matrix}0\\\\0\\\\4\\end{matrix}\\right], \\quad \\left[\\begin{matrix}0\\\\0\\\\4\\end{matrix}\\right], \\quad \\left[\\begin{matrix}4 \\cos{\\left (\\theta_{1} \\right )} \\cos{\\left (\\theta_{2} \\right )}\\\\4 \\sin{\\left (\\theta_{1} \\right )} \\cos{\\left (\\theta_{2} \\right )}\\\\4 \\sin{\\left (\\theta_{2} \\right )} + 4\\end{matrix}\\right], \\quad \\left[\\begin{matrix}- 4 \\sin{\\left (\\theta_{2} \\right )} \\sin{\\left (\\theta_{3} \\right )} \\cos{\\left (\\theta_{1} \\right )} + 4 \\cos{\\left (\\theta_{1} \\right )} \\cos{\\left (\\theta_{2} \\right )} \\cos{\\left (\\theta_{3} \\right )} + 4 \\cos{\\left (\\theta_{1} \\right )} \\cos{\\left (\\theta_{2} \\right )}\\\\- 4 \\sin{\\left (\\theta_{1} \\right )} \\sin{\\left (\\theta_{2} \\right )} \\sin{\\left (\\theta_{3} \\right )} + 4 \\sin{\\left (\\theta_{1} \\right )} \\cos{\\left (\\theta_{2} \\right )} \\cos{\\left (\\theta_{3} \\right )} + 4 \\sin{\\left (\\theta_{1} \\right )} \\cos{\\left (\\theta_{2} \\right )}\\\\4 \\sin{\\left (\\theta_{2} \\right )} \\cos{\\left (\\theta_{3} \\right )} + 4 \\sin{\\left (\\theta_{2} \\right )} + 4 \\sin{\\left (\\theta_{3} \\right )} \\cos{\\left (\\theta_{2} \\right )} + 4\\end{matrix}\\right]\\right )$$",
            "text/plain": [
              "⎛⎡0⎤  ⎡0⎤  ⎡4⋅cos(θ₁)⋅cos(θ₂)⎤  ⎡-4⋅sin(θ₂)⋅sin(θ₃)⋅cos(θ₁) + 4⋅cos(θ₁)⋅cos(θ₂\n",
              "⎜⎢ ⎥  ⎢ ⎥  ⎢                 ⎥  ⎢                                             \n",
              "⎜⎢0⎥, ⎢0⎥, ⎢4⋅sin(θ₁)⋅cos(θ₂)⎥, ⎢-4⋅sin(θ₁)⋅sin(θ₂)⋅sin(θ₃) + 4⋅sin(θ₁)⋅cos(θ₂\n",
              "⎜⎢ ⎥  ⎢ ⎥  ⎢                 ⎥  ⎢                                             \n",
              "⎝⎣4⎦  ⎣4⎦  ⎣  4⋅sin(θ₂) + 4  ⎦  ⎣          4⋅sin(θ₂)⋅cos(θ₃) + 4⋅sin(θ₂) + 4⋅s\n",
              "\n",
              ")⋅cos(θ₃) + 4⋅cos(θ₁)⋅cos(θ₂)⎤⎞\n",
              "                             ⎥⎟\n",
              ")⋅cos(θ₃) + 4⋅sin(θ₁)⋅cos(θ₂)⎥⎟\n",
              "                             ⎥⎟\n",
              "in(θ₃)⋅cos(θ₂) + 4           ⎦⎠"
            ]
          },
          "metadata": {
            "tags": []
          },
          "execution_count": 2
        }
      ]
    },
    {
      "cell_type": "code",
      "metadata": {
        "colab": {
          "base_uri": "https://localhost:8080/"
        },
        "id": "0EnjWjBYwpFl",
        "outputId": "1beb2844-f3b5-406e-c489-5b1d84e238ce"
      },
      "source": [
        "theta1,theta2,theta3,theta4 = sp.symbols(\"theta1,theta2,theta3,theta4\")\n",
        "expr1 = p_1\n",
        "expr2 = p_2\n",
        "expr3 = p_3\n",
        "expr4 = p_4\n",
        "expr5 = Jv\n",
        "\n",
        "np_p_1 = sp.lambdify((theta1,theta2,theta3), expr1, 'numpy')\n",
        "np_p_2 = sp.lambdify((theta1,theta2,theta3), expr2, 'numpy')\n",
        "np_p_3 = sp.lambdify((theta1,theta2,theta3), expr3, 'numpy')\n",
        "np_p_4 = sp.lambdify((theta1,theta2,theta3), expr4, 'numpy')\n",
        "jacobian = sp.lambdify((theta1,theta2,theta3), expr5, 'numpy')\n",
        " \n",
        "# print(xp(np.pi/3,np.pi/6,np.pi/4,1))\n",
        "# print(np.linalg.pinv(jacobian(np.pi/3,np.pi/6,np.pi/6,0)))\n",
        "qo = np.array([0,0,np.pi/2])\n",
        "def func(qo,np_p_4):\n",
        "    o1,o2,o3 = qo[0],qo[1],qo[2]\n",
        "    func = np.subtract(np_p_4(o1,o2,o3).T ,np.array([6,4,4]))\n",
        "    return func.ravel()\n",
        "\n",
        "def tan(np_p_4,jacobian,qo):\n",
        "    o1,o2,o3, = qo[0],qo[1],qo[2]\n",
        "\n",
        "    q = qo - (np.linalg.inv(jacobian(o1,o2,o3)) @ func(qo,np_p_4))\n",
        "\n",
        "    return q\n",
        "\n",
        "record = qo\n",
        "y = func(qo,np_p_4)\n",
        "q = tan(np_p_4,jacobian,qo)\n",
        "record = np.vstack((record,q))\n",
        "iteration = 1\n",
        "\n",
        "\n",
        "while np.absolute(y[0]) > 10e-6 or np.absolute(y[1]) > 10e-6 or np.absolute(y[2]) > 10e-6:\n",
        "    q = tan(np_p_4,jacobian,q)\n",
        "    y = func(q,np_p_4)\n",
        "    iteration += 1\n",
        "    print(q)\n",
        "    record = np.vstack((record,q))\n",
        "    \n",
        "    \n",
        "# print(q)\n",
        "# print(y)\n",
        "print(iteration)\n",
        "print(record)\n",
        "print(np.shape(record))"
      ],
      "execution_count": 3,
      "outputs": [
        {
          "output_type": "stream",
          "text": [
            "[ 0.29206192 -0.690741    1.33768647]\n",
            "[ 0.62721851 -0.54176317  1.08785792]\n",
            "[ 0.5859184  -0.45706614  0.91390443]\n",
            "[ 0.58801186 -0.44792105  0.89584311]\n",
            "[ 0.5880026  -0.44783241  0.89566481]\n",
            "6\n",
            "[[ 0.          0.          1.57079633]\n",
            " [ 1.         -1.          2.07079633]\n",
            " [ 0.29206192 -0.690741    1.33768647]\n",
            " [ 0.62721851 -0.54176317  1.08785792]\n",
            " [ 0.5859184  -0.45706614  0.91390443]\n",
            " [ 0.58801186 -0.44792105  0.89584311]\n",
            " [ 0.5880026  -0.44783241  0.89566481]]\n",
            "(7, 3)\n"
          ],
          "name": "stdout"
        }
      ]
    },
    {
      "cell_type": "code",
      "metadata": {
        "colab": {
          "base_uri": "https://localhost:8080/"
        },
        "id": "TkKbi5PsfesH",
        "outputId": "5a18a582-ba6e-437f-9962-adfda50cd32f"
      },
      "source": [
        "theta1,theta2,theta3 = q[0],q[1],q[2]\r\n",
        "print(np_p_1(theta1,theta2,theta3))\r\n",
        "print(np_p_2(theta1,theta2,theta3))\r\n",
        "print(np_p_3(theta1,theta2,theta3))\r\n",
        "np_p_4(theta1,theta2,theta3)"
      ],
      "execution_count": 4,
      "outputs": [
        {
          "output_type": "stream",
          "text": [
            "[[0]\n",
            " [0]\n",
            " [4]]\n",
            "[[0]\n",
            " [0]\n",
            " [4]]\n",
            "[[2.99999999]\n",
            " [1.99999999]\n",
            " [2.26794916]]\n"
          ],
          "name": "stdout"
        },
        {
          "output_type": "execute_result",
          "data": {
            "text/plain": [
              "array([[5.99999998],\n",
              "       [3.99999998],\n",
              "       [4.        ]])"
            ]
          },
          "metadata": {
            "tags": []
          },
          "execution_count": 4
        }
      ]
    },
    {
      "cell_type": "code",
      "metadata": {
        "colab": {
          "base_uri": "https://localhost:8080/",
          "height": 319
        },
        "id": "TiDJ2BemeTQj",
        "outputId": "c72c6eb4-70e0-48e9-de77-1f8309c0ba19"
      },
      "source": [
        "def run_animation(np_p_1,np_p_2,np_p_3,np_p_4,record):\r\n",
        "    fig = plt.figure()\r\n",
        "    ax = Axes3D(fig)\r\n",
        "    ax.set_xlim3d([0,10.0])\r\n",
        "    ax.set_xlabel('X')\r\n",
        "    ax.set_ylim3d([-10,10])\r\n",
        "    ax.set_ylabel('Y')\r\n",
        "    ax.set_zlim3d([0,10])\r\n",
        "    ax.set_zlabel('Z')\r\n",
        "\r\n",
        "    line, = ax.plot([],[],[], lw = 4)\r\n",
        "    line1, = ax.plot([],[],[], lw = 4)\r\n",
        "    \r\n",
        "    \r\n",
        "    def init():\r\n",
        "        o1,o2,o3 = record[0][0],record[0][1],record[0][2]\r\n",
        "        ax.plot([6],[4],[4],'ro')\r\n",
        "        # line.set_data([0],[0])\r\n",
        "        # line.set_3d_properties([0])\r\n",
        "        line1.set_data([0,np_p_3(o1,o2,o3)[0],np_p_4(o1,o2,o3)[0]],\r\n",
        "                      [0,np_p_3(o1,o2,o3)[1],np_p_4(o1,o2,o3)[1]])\r\n",
        "        line1.set_3d_properties([4,np_p_3(o1,o2,o3)[2],np_p_4(o1,o2,o3)[2]])\r\n",
        "        return line, line1,\r\n",
        "    \r\n",
        "    def animate(i):\r\n",
        "        o1,o2,o3 = record[i][0],record[i][1],record[i][2]\r\n",
        "        \r\n",
        "        ax.plot([6],[4],[4],'ro')\r\n",
        "        \r\n",
        "        ax.plot(np_p_4(o1,o2,o3)[0],np_p_4(o1,o2,o3)[1],np_p_4(o1,o2,o3)[2],'bo')\r\n",
        "        \r\n",
        "        line.set_data([0,np_p_3(o1,o2,o3)[0],np_p_4(o1,o2,o3)[0]],\r\n",
        "                      [0,np_p_3(o1,o2,o3)[1],np_p_4(o1,o2,o3)[1]])\r\n",
        "        line.set_3d_properties([4,np_p_3(o1,o2,o3)[2],np_p_4(o1,o2,o3)[2]])\r\n",
        "        return line,\r\n",
        "\r\n",
        "    anim = animation.FuncAnimation(fig,animate, init_func = init,frames = len(record),interval = 10,blit = False)\r\n",
        "    anim.save('inverse_kinematics.mp4',writer = 'ffmpeg', fps = 1)\r\n",
        "    plt.show()\r\n",
        "\r\n",
        "run_animation(np_p_1,np_p_2,np_p_3,np_p_4,record)\r\n"
      ],
      "execution_count": 8,
      "outputs": [
        {
          "output_type": "display_data",
          "data": {
            "image/png": "[encoded data removed]",
            "text/plain": [
              "<Figure size 432x288 with 1 Axes>"
            ]
          },
          "metadata": {
            "tags": [],
            "needs_background": "light"
          }
        }
      ]
    },
    {
      "cell_type": "markdown",
      "metadata": {
        "id": "HX9nvJ-8txFR"
      },
      "source": [
        "\r\n",
        "\r\n",
        "---\r\n",
        "\r\n",
        "\r\n",
        "Only for reference \r\n",
        "\r\n",
        "\r\n"
      ]
    },
    {
      "cell_type": "code",
      "metadata": {
        "id": "ePX8gxLJcOfu",
        "colab": {
          "base_uri": "https://localhost:8080/"
        },
        "outputId": "417caf1d-b0a8-483a-dcff-9ebc6e2e5631"
      },
      "source": [
        "def transf_wrt_origin(q):\r\n",
        "    theta1,theta2,theta3 = q[0],q[1],q[2]\r\n",
        "    DHpara = DH.num_para(theta1,theta2,theta3,theta4=0)\r\n",
        "    z = np.identity(4)\r\n",
        "    record = np.zeros((4,4,4))\r\n",
        "    for i in range(0,len(DHpara)):\r\n",
        "        T = Transform(DHpara[i])\r\n",
        "        X = T.np_transform()\r\n",
        "        z = z@X\r\n",
        "        record[i] = z\r\n",
        "    return record\r\n",
        "\r\n",
        "record = transf_wrt_origin(q)\r\n",
        "print(record)"
      ],
      "execution_count": 9,
      "outputs": [
        {
          "output_type": "stream",
          "text": [
            "[[[ 9.99947340e-01 -1.02624013e-02  0.00000000e+00  0.00000000e+00]\n",
            "  [ 1.02624013e-02  9.99947340e-01  0.00000000e+00  0.00000000e+00]\n",
            "  [ 0.00000000e+00  0.00000000e+00  1.00000000e+00  4.00000000e+00]\n",
            "  [ 0.00000000e+00  0.00000000e+00  0.00000000e+00  1.00000000e+00]]\n",
            "\n",
            " [[ 9.99916796e-01  7.81565879e-03  1.02624013e-02  0.00000000e+00]\n",
            "  [ 1.02620878e-02  8.02116508e-05 -9.99947340e-01  0.00000000e+00]\n",
            "  [-7.81607039e-03  9.99969454e-01  6.12323400e-17  4.00000000e+00]\n",
            "  [ 0.00000000e+00  0.00000000e+00  0.00000000e+00  1.00000000e+00]]\n",
            "\n",
            " [[ 9.99916796e-01 -7.81565879e-03  1.02624013e-02  3.99966718e+00]\n",
            "  [ 1.02620878e-02 -8.02116508e-05 -9.99947340e-01  4.10483513e-02]\n",
            "  [ 7.81607039e-03  9.99969454e-01  6.12323400e-17  3.96873572e+00]\n",
            "  [ 0.00000000e+00  0.00000000e+00  0.00000000e+00  1.00000000e+00]]\n",
            "\n",
            " [[ 9.99916796e-01 -1.02624013e-02 -7.81565879e-03  7.99933437e+00]\n",
            "  [ 1.02620878e-02  9.99947340e-01 -8.02116508e-05  8.20967025e-02]\n",
            "  [ 7.81607039e-03 -1.87039967e-21  9.99969454e-01  4.00000000e+00]\n",
            "  [ 0.00000000e+00  0.00000000e+00  0.00000000e+00  1.00000000e+00]]]\n"
          ],
          "name": "stdout"
        }
      ]
    },
    {
      "cell_type": "markdown",
      "metadata": {
        "id": "CijxDrzsIlqo"
      },
      "source": [
        "\r\n",
        "\r\n",
        "\r\n",
        "---\r\n",
        "\r\n",
        "\r\n",
        "#### Reference links\r\n",
        "* sympy matrix [multiplication](https://docs.sympy.org/latest/tutorial/matrices.html)\r\n",
        "* lambdify converting multi variable function [link](https://docs.sympy.org/latest/modules/utilities/lambdify.html)\r\n",
        "* Newton raphson method for multivariate [link](http://fourier.eng.hmc.edu/e176/lectures/NM/node21.html)\r\n"
      ]
    },
    {
      "cell_type": "code",
      "metadata": {
        "id": "l4kqiktSD9tq"
      },
      "source": [
        "from sympy import sin, cos, symbols, lambdify\n",
        " \n",
        "import numpy as np\n",
        " \n",
        "x ,y = symbols('x,y')\n",
        " \n",
        "expr = sin(x) + sin(y)\n",
        " \n",
        "f = lambdify([x,y], expr, 'numpy')\n",
        " \n",
        "a = np.array([np.pi/2])\n",
        " \n",
        " \n",
        "print(f(a,a))"
      ],
      "execution_count": null,
      "outputs": []
    },
    {
      "cell_type": "code",
      "metadata": {
        "id": "WWyGQ24lnq7i"
      },
      "source": [
        "a = np.asarray([2,2,3])\r\n",
        "b = np.asarray([-1,0,1])\r\n",
        "c = np.asarray([True, False])\r\n",
        "\r\n",
        "print(True or False or False)\r\n",
        "print(a.all())\r\n",
        "\r\n",
        "print(b.any())\r\n",
        "print(b.all())\r\n",
        "\r\n",
        "print(c.any())\r\n",
        "print(c.all())"
      ],
      "execution_count": null,
      "outputs": []
    }
  ]
}